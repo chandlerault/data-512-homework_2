{
 "cells": [
  {
   "cell_type": "markdown",
   "metadata": {},
   "source": [
    "# Data Collection\n",
    "The code in this file collects quality information about wikipedia articles about U.S. cities using ORES. The data is then saved into a file called 'wp_scored_city_articles_by_state.csv'. Much of the code here is adapted from [here](https://drive.google.com/file/d/17C9xsmR9U3lJeD52UTbAedlHDetwYsxs/view) under the creative commons license.\n",
    "\n",
    "## Imports"
   ]
  },
  {
   "cell_type": "code",
   "execution_count": 49,
   "metadata": {},
   "outputs": [],
   "source": [
    " \n",
    "import json, time, urllib.parse\n",
    "import pandas as pd\n",
    "import requests\n",
    "from collections import Counter"
   ]
  },
  {
   "cell_type": "markdown",
   "metadata": {},
   "source": [
    "## Data Constants\n",
    "This cell is declaring constants such as latency, request headers, etc."
   ]
  },
  {
   "cell_type": "code",
   "execution_count": 154,
   "metadata": {},
   "outputs": [],
   "source": [
    "#########\n",
    "#\n",
    "#    CONSTANTS\n",
    "\n",
    "#    The current LiftWing ORES API endpoint and prediction model\n",
    "#\n",
    "\n",
    "\n",
    "#\n",
    "#    The throttling rate is a function of the Access token that you are granted when you request the token. The constants\n",
    "#    come from dissecting the token and getting the rate limits from the granted token. An example of that is below.\n",
    "#\n",
    "API_LATENCY_ASSUMED = 0.002       # Assuming roughly 2ms latency on the API and network\n",
    "API_THROTTLE_WAIT = (60.0/5000.0)-API_LATENCY_ASSUMED\n",
    "\n",
    "#    When making automated requests we should include something that is unique to the person making the request\n",
    "#    This should include an email - your UW email would be good to put in there\n",
    "#    \n",
    "#    Because all LiftWing API requests require some form of authentication, you need to provide your access token\n",
    "#    as part of the header too\n",
    "#\n",
    "REQUEST_HEADER_TEMPLATE = {\n",
    "    'User-Agent': \"<{email_address}>, University of Washington, MSDS DATA 512 - AUTUMN 2023\",\n",
    "    'Content-Type': 'application/json',\n",
    "    'Authorization': \"Bearer {access_token}\"\n",
    "}\n",
    "#\n",
    "#    This is a template for the parameters that we need to supply in the headers of an API request\n",
    "#\n",
    "REQUEST_HEADER_PARAMS_TEMPLATE = {\n",
    "    'email_address' : \"\",         # your email address should go here\n",
    "    'access_token'  : \"\"          # the access token you create will need to go here\n",
    "}\n",
    "\n",
    "#\n",
    "#    This is a template of the data required as a payload when making a scoring request of the ORES model\n",
    "#\n",
    "ORES_REQUEST_DATA_TEMPLATE = {\n",
    "    \"rev_ids\":      \"\",       # this request requires a revision id\n",
    "}\n",
    "\n",
    "ACCESS_TOKEN = \"\""
   ]
  },
  {
   "cell_type": "markdown",
   "metadata": {},
   "source": [
    "## Retrieval Functions\n",
    "This cell declares key functions for retrieving revision id data from wikipedia and running the ORES ML API for quality assessment of the articles."
   ]
  },
  {
   "cell_type": "code",
   "execution_count": 251,
   "metadata": {},
   "outputs": [],
   "source": [
    "\n",
    "\n",
    "#########\n",
    "#\n",
    "#    PROCEDURES/FUNCTIONS\n",
    "#\n",
    "\n",
    "def request_ores_score_per_article(article_revid = None, email_address=None, access_token=None,\n",
    "                                   request_data = ORES_REQUEST_DATA_TEMPLATE, \n",
    "                                   header_format = REQUEST_HEADER_TEMPLATE, \n",
    "                                   header_params = REQUEST_HEADER_PARAMS_TEMPLATE):\n",
    "    \n",
    "    #    Make sure we have an article revision id, email and token\n",
    "    #    This approach prioritizes the parameters passed in when making the call\n",
    "    # if article_revid:\n",
    "    #     request_data['rev_ids'] = \"|\".join(article_revid)\n",
    "    if email_address:\n",
    "        header_params['email_address'] = email_address\n",
    "    if access_token:\n",
    "        header_params['access_token'] = access_token\n",
    "    \n",
    "    #   Making a request requires a revision id - an email address - and the access token\n",
    "    if not article_revid:\n",
    "        raise Exception(\"Must provide an article revision id (rev_id) to score articles\")\n",
    "    if not header_params['email_address']:\n",
    "        raise Exception(\"Must provide an 'email_address' value\")\n",
    "    if not header_params['access_token']:\n",
    "        raise Exception(\"Must provide an 'access_token' value\")\n",
    "    \n",
    "    # Create the request URL with the specified model parameter - default is a article quality score request\n",
    "    \n",
    "    # Create a compliant request header from the template and the supplied parameters\n",
    "    headers = dict()\n",
    "    for key in header_format.keys():\n",
    "        headers[str(key)] = header_format[key].format(**header_params)\n",
    "    \n",
    "    try:\n",
    "       \n",
    "        if API_THROTTLE_WAIT > 0.0:\n",
    "            time.sleep(API_THROTTLE_WAIT)\n",
    "       \n",
    "        response = requests.get(\"https://ores.wikimedia.org/v3/scores/enwiki/?models=draftquality|wp10&revids=\"+\"|\".join(str(item) for item in article_revid), headers=headers)\n",
    "        json_response = response.json()\n",
    "    except Exception as e:\n",
    "        print(e)\n",
    "        json_response = None\n",
    "    return json_response\n",
    "\n",
    "\n",
    "def get_revision_id(titles):\n",
    "    if API_THROTTLE_WAIT > 0.0:\n",
    "            time.sleep(API_THROTTLE_WAIT)\n",
    "    S = requests.Session()\n",
    "\n",
    "    URL = \"https://en.wikipedia.org/w/api.php\"\n",
    "\n",
    "    PARAMS = {\n",
    "        \"action\": \"query\",\n",
    "        \"format\": \"json\",\n",
    "        \"titles\": titles,\n",
    "        \"prop\": \"info\",\n",
    "        \"inprop\": \"url|talkid\"\n",
    "    }\n",
    "\n",
    "    R = S.get(url=URL, params=PARAMS)\n",
    "    DATA = R.json()\n",
    "    print(DATA)\n",
    "\n",
    "    PAGES = DATA[\"query\"][\"pages\"]\n",
    "    rev_dict = {}\n",
    "    for k, v in PAGES.items():\n",
    "        rev_dict[v[\"title\"]] = v[\"lastrevid\"]\n",
    "    return rev_dict\n",
    "\n"
   ]
  },
  {
   "cell_type": "markdown",
   "metadata": {},
   "source": [
    "## Data Retrieval \n",
    "The following cell retrieves the data using the above functions."
   ]
  },
  {
   "cell_type": "code",
   "execution_count": 250,
   "metadata": {},
   "outputs": [
    {
     "name": "stdout",
     "output_type": "stream",
     "text": [
      "Getting batch 0\n",
      "{'batchcomplete': '', 'query': {'pages': {'104730': {'pageid': 104730, 'ns': 0, 'title': 'Abbeville, Alabama', 'contentmodel': 'wikitext', 'pagelanguage': 'en', 'pagelanguagehtmlcode': 'en', 'pagelanguagedir': 'ltr', 'touched': '2023-10-10T22:35:37Z', 'lastrevid': 1171163550, 'length': 24706, 'talkid': 281244, 'fullurl': 'https://en.wikipedia.org/wiki/Abbeville,_Alabama', 'editurl': 'https://en.wikipedia.org/w/index.php?title=Abbeville,_Alabama&action=edit', 'canonicalurl': 'https://en.wikipedia.org/wiki/Abbeville,_Alabama'}, '104761': {'pageid': 104761, 'ns': 0, 'title': 'Adamsville, Alabama', 'contentmodel': 'wikitext', 'pagelanguage': 'en', 'pagelanguagehtmlcode': 'en', 'pagelanguagedir': 'ltr', 'touched': '2023-10-10T22:35:37Z', 'lastrevid': 1177621427, 'length': 18040, 'talkid': 281272, 'fullurl': 'https://en.wikipedia.org/wiki/Adamsville,_Alabama', 'editurl': 'https://en.wikipedia.org/w/index.php?title=Adamsville,_Alabama&action=edit', 'canonicalurl': 'https://en.wikipedia.org/wiki/Adamsville,_Alabama'}, '105188': {'pageid': 105188, 'ns': 0, 'title': 'Addison, Alabama', 'contentmodel': 'wikitext', 'pagelanguage': 'en', 'pagelanguagehtmlcode': 'en', 'pagelanguagedir': 'ltr', 'touched': '2023-10-10T22:35:37Z', 'lastrevid': 1168359898, 'length': 13309, 'talkid': 281517, 'fullurl': 'https://en.wikipedia.org/wiki/Addison,_Alabama', 'editurl': 'https://en.wikipedia.org/w/index.php?title=Addison,_Alabama&action=edit', 'canonicalurl': 'https://en.wikipedia.org/wiki/Addison,_Alabama'}, '104726': {'pageid': 104726, 'ns': 0, 'title': 'Akron, Alabama', 'contentmodel': 'wikitext', 'pagelanguage': 'en', 'pagelanguagehtmlcode': 'en', 'pagelanguagedir': 'ltr', 'touched': '2023-10-10T22:35:37Z', 'lastrevid': 1165909508, 'length': 11710, 'talkid': 281240, 'fullurl': 'https://en.wikipedia.org/wiki/Akron,_Alabama', 'editurl': 'https://en.wikipedia.org/w/index.php?title=Akron,_Alabama&action=edit', 'canonicalurl': 'https://en.wikipedia.org/wiki/Akron,_Alabama'}, '105109': {'pageid': 105109, 'ns': 0, 'title': 'Alabaster, Alabama', 'contentmodel': 'wikitext', 'pagelanguage': 'en', 'pagelanguagehtmlcode': 'en', 'pagelanguagedir': 'ltr', 'touched': '2023-10-10T22:35:37Z', 'lastrevid': 1179139816, 'length': 20343, 'talkid': 281444, 'fullurl': 'https://en.wikipedia.org/wiki/Alabaster,_Alabama', 'editurl': 'https://en.wikipedia.org/w/index.php?title=Alabaster,_Alabama&action=edit', 'canonicalurl': 'https://en.wikipedia.org/wiki/Alabaster,_Alabama'}, '104899': {'pageid': 104899, 'ns': 0, 'title': 'Albertville, Alabama', 'contentmodel': 'wikitext', 'pagelanguage': 'en', 'pagelanguagehtmlcode': 'en', 'pagelanguagedir': 'ltr', 'touched': '2023-10-10T22:35:37Z', 'lastrevid': 1179198677, 'length': 26930, 'talkid': 281390, 'fullurl': 'https://en.wikipedia.org/wiki/Albertville,_Alabama', 'editurl': 'https://en.wikipedia.org/w/index.php?title=Albertville,_Alabama&action=edit', 'canonicalurl': 'https://en.wikipedia.org/wiki/Albertville,_Alabama'}, '105153': {'pageid': 105153, 'ns': 0, 'title': 'Alexander City, Alabama', 'contentmodel': 'wikitext', 'pagelanguage': 'en', 'pagelanguagehtmlcode': 'en', 'pagelanguagedir': 'ltr', 'touched': '2023-10-10T22:35:37Z', 'lastrevid': 1179140073, 'length': 25275, 'talkid': 281484, 'fullurl': 'https://en.wikipedia.org/wiki/Alexander_City,_Alabama', 'editurl': 'https://en.wikipedia.org/w/index.php?title=Alexander_City,_Alabama&action=edit', 'canonicalurl': 'https://en.wikipedia.org/wiki/Alexander_City,_Alabama'}, '105086': {'pageid': 105086, 'ns': 0, 'title': 'Aliceville, Alabama', 'contentmodel': 'wikitext', 'pagelanguage': 'en', 'pagelanguagehtmlcode': 'en', 'pagelanguagedir': 'ltr', 'touched': '2023-10-10T22:35:37Z', 'lastrevid': 1167792390, 'length': 31568, 'talkid': 281424, 'fullurl': 'https://en.wikipedia.org/wiki/Aliceville,_Alabama', 'editurl': 'https://en.wikipedia.org/w/index.php?title=Aliceville,_Alabama&action=edit', 'canonicalurl': 'https://en.wikipedia.org/wiki/Aliceville,_Alabama'}, '100811': {'pageid': 100811, 'ns': 0, 'title': 'Allgood, Alabama', 'contentmodel': 'wikitext', 'pagelanguage': 'en', 'pagelanguagehtmlcode': 'en', 'pagelanguagedir': 'ltr', 'touched': '2023-10-10T22:35:35Z', 'lastrevid': 1165909718, 'length': 11278, 'talkid': 281031, 'fullurl': 'https://en.wikipedia.org/wiki/Allgood,_Alabama', 'editurl': 'https://en.wikipedia.org/w/index.php?title=Allgood,_Alabama&action=edit', 'canonicalurl': 'https://en.wikipedia.org/wiki/Allgood,_Alabama'}, '100812': {'pageid': 100812, 'ns': 0, 'title': 'Altoona, Alabama', 'contentmodel': 'wikitext', 'pagelanguage': 'en', 'pagelanguagehtmlcode': 'en', 'pagelanguagedir': 'ltr', 'touched': '2023-10-10T22:35:35Z', 'lastrevid': 1165909823, 'length': 10679, 'talkid': 281032, 'fullurl': 'https://en.wikipedia.org/wiki/Altoona,_Alabama', 'editurl': 'https://en.wikipedia.org/w/index.php?title=Altoona,_Alabama&action=edit', 'canonicalurl': 'https://en.wikipedia.org/wiki/Altoona,_Alabama'}}}}\n",
      "Getting batch 1\n",
      "{'batchcomplete': '', 'query': {'pages': {'104595': {'pageid': 104595, 'ns': 0, 'title': 'Andalusia, Alabama', 'contentmodel': 'wikitext', 'pagelanguage': 'en', 'pagelanguagehtmlcode': 'en', 'pagelanguagedir': 'ltr', 'touched': '2023-10-10T22:35:36Z', 'lastrevid': 1179141586, 'length': 24744, 'talkid': 281121, 'fullurl': 'https://en.wikipedia.org/wiki/Andalusia,_Alabama', 'editurl': 'https://en.wikipedia.org/w/index.php?title=Andalusia,_Alabama&action=edit', 'canonicalurl': 'https://en.wikipedia.org/wiki/Andalusia,_Alabama'}, '46726043': {'pageid': 46726043, 'ns': 0, 'title': 'Anderson, Lauderdale County, Alabama', 'contentmodel': 'wikitext', 'pagelanguage': 'en', 'pagelanguagehtmlcode': 'en', 'pagelanguagedir': 'ltr', 'touched': '2023-09-16T14:34:48Z', 'lastrevid': 662691565, 'length': 47, 'redirect': '', 'new': '', 'talkid': 281326, 'fullurl': 'https://en.wikipedia.org/wiki/Anderson,_Lauderdale_County,_Alabama', 'editurl': 'https://en.wikipedia.org/w/index.php?title=Anderson,_Lauderdale_County,_Alabama&action=edit', 'canonicalurl': 'https://en.wikipedia.org/wiki/Anderson,_Lauderdale_County,_Alabama'}, '103733': {'pageid': 103733, 'ns': 0, 'title': 'Anniston, Alabama', 'contentmodel': 'wikitext', 'pagelanguage': 'en', 'pagelanguagehtmlcode': 'en', 'pagelanguagedir': 'ltr', 'touched': '2023-10-10T22:35:36Z', 'lastrevid': 1176049382, 'length': 51647, 'talkid': 281054, 'fullurl': 'https://en.wikipedia.org/wiki/Anniston,_Alabama', 'editurl': 'https://en.wikipedia.org/w/index.php?title=Anniston,_Alabama&action=edit', 'canonicalurl': 'https://en.wikipedia.org/wiki/Anniston,_Alabama'}, '104617': {'pageid': 104617, 'ns': 0, 'title': 'Arab, Alabama', 'contentmodel': 'wikitext', 'pagelanguage': 'en', 'pagelanguagehtmlcode': 'en', 'pagelanguagedir': 'ltr', 'touched': '2023-10-10T22:35:36Z', 'lastrevid': 1171375371, 'length': 16262, 'talkid': 281145, 'fullurl': 'https://en.wikipedia.org/wiki/Arab,_Alabama', 'editurl': 'https://en.wikipedia.org/w/index.php?title=Arab,_Alabama&action=edit', 'canonicalurl': 'https://en.wikipedia.org/wiki/Arab,_Alabama'}, '104850': {'pageid': 104850, 'ns': 0, 'title': 'Ardmore, Alabama', 'contentmodel': 'wikitext', 'pagelanguage': 'en', 'pagelanguagehtmlcode': 'en', 'pagelanguagedir': 'ltr', 'touched': '2023-10-10T22:35:37Z', 'lastrevid': 1176903479, 'length': 17332, 'talkid': 281348, 'fullurl': 'https://en.wikipedia.org/wiki/Ardmore,_Alabama', 'editurl': 'https://en.wikipedia.org/w/index.php?title=Ardmore,_Alabama&action=edit', 'canonicalurl': 'https://en.wikipedia.org/wiki/Ardmore,_Alabama'}, '104764': {'pageid': 104764, 'ns': 0, 'title': 'Argo, Alabama', 'contentmodel': 'wikitext', 'pagelanguage': 'en', 'pagelanguagehtmlcode': 'en', 'pagelanguagedir': 'ltr', 'touched': '2023-10-10T22:35:37Z', 'lastrevid': 1177623964, 'length': 11608, 'talkid': 281273, 'fullurl': 'https://en.wikipedia.org/wiki/Argo,_Alabama', 'editurl': 'https://en.wikipedia.org/w/index.php?title=Argo,_Alabama&action=edit', 'canonicalurl': 'https://en.wikipedia.org/wiki/Argo,_Alabama'}, '104630': {'pageid': 104630, 'ns': 0, 'title': 'Ariton, Alabama', 'contentmodel': 'wikitext', 'pagelanguage': 'en', 'pagelanguagehtmlcode': 'en', 'pagelanguagedir': 'ltr', 'touched': '2023-10-10T22:35:36Z', 'lastrevid': 1166014478, 'length': 14652, 'talkid': 281159, 'fullurl': 'https://en.wikipedia.org/wiki/Ariton,_Alabama', 'editurl': 'https://en.wikipedia.org/w/index.php?title=Ariton,_Alabama&action=edit', 'canonicalurl': 'https://en.wikipedia.org/wiki/Ariton,_Alabama'}, '105189': {'pageid': 105189, 'ns': 0, 'title': 'Arley, Alabama', 'contentmodel': 'wikitext', 'pagelanguage': 'en', 'pagelanguagehtmlcode': 'en', 'pagelanguagedir': 'ltr', 'touched': '2023-10-10T22:35:37Z', 'lastrevid': 1166014498, 'length': 12191, 'talkid': 281518, 'fullurl': 'https://en.wikipedia.org/wiki/Arley,_Alabama', 'editurl': 'https://en.wikipedia.org/w/index.php?title=Arley,_Alabama&action=edit', 'canonicalurl': 'https://en.wikipedia.org/wiki/Arley,_Alabama'}, '104734': {'pageid': 104734, 'ns': 0, 'title': 'Ashford, Alabama', 'contentmodel': 'wikitext', 'pagelanguage': 'en', 'pagelanguagehtmlcode': 'en', 'pagelanguagedir': 'ltr', 'touched': '2023-10-10T22:35:37Z', 'lastrevid': 1166014593, 'length': 17847, 'talkid': 281248, 'fullurl': 'https://en.wikipedia.org/wiki/Ashford,_Alabama', 'editurl': 'https://en.wikipedia.org/w/index.php?title=Ashford,_Alabama&action=edit', 'canonicalurl': 'https://en.wikipedia.org/wiki/Ashford,_Alabama'}, '104574': {'pageid': 104574, 'ns': 0, 'title': 'Ashland, Alabama', 'contentmodel': 'wikitext', 'pagelanguage': 'en', 'pagelanguagehtmlcode': 'en', 'pagelanguagedir': 'ltr', 'touched': '2023-10-10T22:35:36Z', 'lastrevid': 1174331705, 'length': 17754, 'talkid': 281100, 'fullurl': 'https://en.wikipedia.org/wiki/Ashland,_Alabama', 'editurl': 'https://en.wikipedia.org/w/index.php?title=Ashland,_Alabama&action=edit', 'canonicalurl': 'https://en.wikipedia.org/wiki/Ashland,_Alabama'}}}}\n"
     ]
    },
    {
     "ename": "KeyboardInterrupt",
     "evalue": "",
     "output_type": "error",
     "traceback": [
      "\u001b[0;31m---------------------------------------------------------------------------\u001b[0m",
      "\u001b[0;31mKeyboardInterrupt\u001b[0m                         Traceback (most recent call last)",
      "\u001b[1;32m/Users/chandlerault/Documents/data512/homework2/data-512-homework_2/wikipedia.ipynb Cell 4\u001b[0m line \u001b[0;36m1\n\u001b[1;32m     <a href='vscode-notebook-cell:/Users/chandlerault/Documents/data512/homework2/data-512-homework_2/wikipedia.ipynb#X16sZmlsZQ%3D%3D?line=12'>13</a>\u001b[0m new_dict \u001b[39m=\u001b[39m get_revision_id(titles)\n\u001b[1;32m     <a href='vscode-notebook-cell:/Users/chandlerault/Documents/data512/homework2/data-512-homework_2/wikipedia.ipynb#X16sZmlsZQ%3D%3D?line=13'>14</a>\u001b[0m rev_dict\u001b[39m.\u001b[39mupdate(new_dict)\n\u001b[0;32m---> <a href='vscode-notebook-cell:/Users/chandlerault/Documents/data512/homework2/data-512-homework_2/wikipedia.ipynb#X16sZmlsZQ%3D%3D?line=14'>15</a>\u001b[0m score \u001b[39m=\u001b[39m request_ores_score_per_article(article_revid\u001b[39m=\u001b[39m\u001b[39mlist\u001b[39m(new_dict\u001b[39m.\u001b[39mvalues()),\n\u001b[1;32m     <a href='vscode-notebook-cell:/Users/chandlerault/Documents/data512/homework2/data-512-homework_2/wikipedia.ipynb#X16sZmlsZQ%3D%3D?line=15'>16</a>\u001b[0m                                    email_address\u001b[39m=\u001b[39m\u001b[39m\"\u001b[39m\u001b[39mcjault@uw.edu\u001b[39m\u001b[39m\"\u001b[39m,\n\u001b[1;32m     <a href='vscode-notebook-cell:/Users/chandlerault/Documents/data512/homework2/data-512-homework_2/wikipedia.ipynb#X16sZmlsZQ%3D%3D?line=16'>17</a>\u001b[0m                                    access_token\u001b[39m=\u001b[39mACCESS_TOKEN)\n\u001b[1;32m     <a href='vscode-notebook-cell:/Users/chandlerault/Documents/data512/homework2/data-512-homework_2/wikipedia.ipynb#X16sZmlsZQ%3D%3D?line=17'>18</a>\u001b[0m articles \u001b[39m+\u001b[39m\u001b[39m=\u001b[39m batch\n\u001b[1;32m     <a href='vscode-notebook-cell:/Users/chandlerault/Documents/data512/homework2/data-512-homework_2/wikipedia.ipynb#X16sZmlsZQ%3D%3D?line=18'>19</a>\u001b[0m revisions \u001b[39m+\u001b[39m\u001b[39m=\u001b[39m new_dict\u001b[39m.\u001b[39mvalues()\n",
      "\u001b[1;32m/Users/chandlerault/Documents/data512/homework2/data-512-homework_2/wikipedia.ipynb Cell 4\u001b[0m line \u001b[0;36m4\n\u001b[1;32m     <a href='vscode-notebook-cell:/Users/chandlerault/Documents/data512/homework2/data-512-homework_2/wikipedia.ipynb#X16sZmlsZQ%3D%3D?line=36'>37</a>\u001b[0m     \u001b[39mif\u001b[39;00m API_THROTTLE_WAIT \u001b[39m>\u001b[39m \u001b[39m0.0\u001b[39m:\n\u001b[1;32m     <a href='vscode-notebook-cell:/Users/chandlerault/Documents/data512/homework2/data-512-homework_2/wikipedia.ipynb#X16sZmlsZQ%3D%3D?line=37'>38</a>\u001b[0m         time\u001b[39m.\u001b[39msleep(API_THROTTLE_WAIT)\n\u001b[0;32m---> <a href='vscode-notebook-cell:/Users/chandlerault/Documents/data512/homework2/data-512-homework_2/wikipedia.ipynb#X16sZmlsZQ%3D%3D?line=39'>40</a>\u001b[0m     response \u001b[39m=\u001b[39m requests\u001b[39m.\u001b[39mget(\u001b[39m\"\u001b[39m\u001b[39mhttps://ores.wikimedia.org/v3/scores/enwiki/?models=draftquality|wp10&revids=\u001b[39m\u001b[39m\"\u001b[39m\u001b[39m+\u001b[39m\u001b[39m\"\u001b[39m\u001b[39m|\u001b[39m\u001b[39m\"\u001b[39m\u001b[39m.\u001b[39mjoin(\u001b[39mstr\u001b[39m(item) \u001b[39mfor\u001b[39;00m item \u001b[39min\u001b[39;00m article_revid), headers\u001b[39m=\u001b[39mheaders)\n\u001b[1;32m     <a href='vscode-notebook-cell:/Users/chandlerault/Documents/data512/homework2/data-512-homework_2/wikipedia.ipynb#X16sZmlsZQ%3D%3D?line=40'>41</a>\u001b[0m     json_response \u001b[39m=\u001b[39m response\u001b[39m.\u001b[39mjson()\n\u001b[1;32m     <a href='vscode-notebook-cell:/Users/chandlerault/Documents/data512/homework2/data-512-homework_2/wikipedia.ipynb#X16sZmlsZQ%3D%3D?line=41'>42</a>\u001b[0m \u001b[39mexcept\u001b[39;00m \u001b[39mException\u001b[39;00m \u001b[39mas\u001b[39;00m e:\n",
      "File \u001b[0;32m~/opt/miniconda3/envs/homework/lib/python3.11/site-packages/requests/api.py:73\u001b[0m, in \u001b[0;36mget\u001b[0;34m(url, params, **kwargs)\u001b[0m\n\u001b[1;32m     62\u001b[0m \u001b[39mdef\u001b[39;00m \u001b[39mget\u001b[39m(url, params\u001b[39m=\u001b[39m\u001b[39mNone\u001b[39;00m, \u001b[39m*\u001b[39m\u001b[39m*\u001b[39mkwargs):\n\u001b[1;32m     63\u001b[0m \u001b[39m    \u001b[39m\u001b[39mr\u001b[39m\u001b[39m\"\"\"Sends a GET request.\u001b[39;00m\n\u001b[1;32m     64\u001b[0m \n\u001b[1;32m     65\u001b[0m \u001b[39m    :param url: URL for the new :class:`Request` object.\u001b[39;00m\n\u001b[0;32m   (...)\u001b[0m\n\u001b[1;32m     70\u001b[0m \u001b[39m    :rtype: requests.Response\u001b[39;00m\n\u001b[1;32m     71\u001b[0m \u001b[39m    \"\"\"\u001b[39;00m\n\u001b[0;32m---> 73\u001b[0m     \u001b[39mreturn\u001b[39;00m request(\u001b[39m\"\u001b[39m\u001b[39mget\u001b[39m\u001b[39m\"\u001b[39m, url, params\u001b[39m=\u001b[39mparams, \u001b[39m*\u001b[39m\u001b[39m*\u001b[39mkwargs)\n",
      "File \u001b[0;32m~/opt/miniconda3/envs/homework/lib/python3.11/site-packages/requests/api.py:59\u001b[0m, in \u001b[0;36mrequest\u001b[0;34m(method, url, **kwargs)\u001b[0m\n\u001b[1;32m     55\u001b[0m \u001b[39m# By using the 'with' statement we are sure the session is closed, thus we\u001b[39;00m\n\u001b[1;32m     56\u001b[0m \u001b[39m# avoid leaving sockets open which can trigger a ResourceWarning in some\u001b[39;00m\n\u001b[1;32m     57\u001b[0m \u001b[39m# cases, and look like a memory leak in others.\u001b[39;00m\n\u001b[1;32m     58\u001b[0m \u001b[39mwith\u001b[39;00m sessions\u001b[39m.\u001b[39mSession() \u001b[39mas\u001b[39;00m session:\n\u001b[0;32m---> 59\u001b[0m     \u001b[39mreturn\u001b[39;00m session\u001b[39m.\u001b[39mrequest(method\u001b[39m=\u001b[39mmethod, url\u001b[39m=\u001b[39murl, \u001b[39m*\u001b[39m\u001b[39m*\u001b[39mkwargs)\n",
      "File \u001b[0;32m~/opt/miniconda3/envs/homework/lib/python3.11/site-packages/requests/sessions.py:589\u001b[0m, in \u001b[0;36mSession.request\u001b[0;34m(self, method, url, params, data, headers, cookies, files, auth, timeout, allow_redirects, proxies, hooks, stream, verify, cert, json)\u001b[0m\n\u001b[1;32m    584\u001b[0m send_kwargs \u001b[39m=\u001b[39m {\n\u001b[1;32m    585\u001b[0m     \u001b[39m\"\u001b[39m\u001b[39mtimeout\u001b[39m\u001b[39m\"\u001b[39m: timeout,\n\u001b[1;32m    586\u001b[0m     \u001b[39m\"\u001b[39m\u001b[39mallow_redirects\u001b[39m\u001b[39m\"\u001b[39m: allow_redirects,\n\u001b[1;32m    587\u001b[0m }\n\u001b[1;32m    588\u001b[0m send_kwargs\u001b[39m.\u001b[39mupdate(settings)\n\u001b[0;32m--> 589\u001b[0m resp \u001b[39m=\u001b[39m \u001b[39mself\u001b[39m\u001b[39m.\u001b[39msend(prep, \u001b[39m*\u001b[39m\u001b[39m*\u001b[39msend_kwargs)\n\u001b[1;32m    591\u001b[0m \u001b[39mreturn\u001b[39;00m resp\n",
      "File \u001b[0;32m~/opt/miniconda3/envs/homework/lib/python3.11/site-packages/requests/sessions.py:703\u001b[0m, in \u001b[0;36mSession.send\u001b[0;34m(self, request, **kwargs)\u001b[0m\n\u001b[1;32m    700\u001b[0m start \u001b[39m=\u001b[39m preferred_clock()\n\u001b[1;32m    702\u001b[0m \u001b[39m# Send the request\u001b[39;00m\n\u001b[0;32m--> 703\u001b[0m r \u001b[39m=\u001b[39m adapter\u001b[39m.\u001b[39msend(request, \u001b[39m*\u001b[39m\u001b[39m*\u001b[39mkwargs)\n\u001b[1;32m    705\u001b[0m \u001b[39m# Total elapsed time of the request (approximately)\u001b[39;00m\n\u001b[1;32m    706\u001b[0m elapsed \u001b[39m=\u001b[39m preferred_clock() \u001b[39m-\u001b[39m start\n",
      "File \u001b[0;32m~/opt/miniconda3/envs/homework/lib/python3.11/site-packages/requests/adapters.py:486\u001b[0m, in \u001b[0;36mHTTPAdapter.send\u001b[0;34m(self, request, stream, timeout, verify, cert, proxies)\u001b[0m\n\u001b[1;32m    483\u001b[0m     timeout \u001b[39m=\u001b[39m TimeoutSauce(connect\u001b[39m=\u001b[39mtimeout, read\u001b[39m=\u001b[39mtimeout)\n\u001b[1;32m    485\u001b[0m \u001b[39mtry\u001b[39;00m:\n\u001b[0;32m--> 486\u001b[0m     resp \u001b[39m=\u001b[39m conn\u001b[39m.\u001b[39murlopen(\n\u001b[1;32m    487\u001b[0m         method\u001b[39m=\u001b[39mrequest\u001b[39m.\u001b[39mmethod,\n\u001b[1;32m    488\u001b[0m         url\u001b[39m=\u001b[39murl,\n\u001b[1;32m    489\u001b[0m         body\u001b[39m=\u001b[39mrequest\u001b[39m.\u001b[39mbody,\n\u001b[1;32m    490\u001b[0m         headers\u001b[39m=\u001b[39mrequest\u001b[39m.\u001b[39mheaders,\n\u001b[1;32m    491\u001b[0m         redirect\u001b[39m=\u001b[39m\u001b[39mFalse\u001b[39;00m,\n\u001b[1;32m    492\u001b[0m         assert_same_host\u001b[39m=\u001b[39m\u001b[39mFalse\u001b[39;00m,\n\u001b[1;32m    493\u001b[0m         preload_content\u001b[39m=\u001b[39m\u001b[39mFalse\u001b[39;00m,\n\u001b[1;32m    494\u001b[0m         decode_content\u001b[39m=\u001b[39m\u001b[39mFalse\u001b[39;00m,\n\u001b[1;32m    495\u001b[0m         retries\u001b[39m=\u001b[39m\u001b[39mself\u001b[39m\u001b[39m.\u001b[39mmax_retries,\n\u001b[1;32m    496\u001b[0m         timeout\u001b[39m=\u001b[39mtimeout,\n\u001b[1;32m    497\u001b[0m         chunked\u001b[39m=\u001b[39mchunked,\n\u001b[1;32m    498\u001b[0m     )\n\u001b[1;32m    500\u001b[0m \u001b[39mexcept\u001b[39;00m (ProtocolError, \u001b[39mOSError\u001b[39;00m) \u001b[39mas\u001b[39;00m err:\n\u001b[1;32m    501\u001b[0m     \u001b[39mraise\u001b[39;00m \u001b[39mConnectionError\u001b[39;00m(err, request\u001b[39m=\u001b[39mrequest)\n",
      "File \u001b[0;32m~/opt/miniconda3/envs/homework/lib/python3.11/site-packages/urllib3/connectionpool.py:714\u001b[0m, in \u001b[0;36mHTTPConnectionPool.urlopen\u001b[0;34m(self, method, url, body, headers, retries, redirect, assert_same_host, timeout, pool_timeout, release_conn, chunked, body_pos, **response_kw)\u001b[0m\n\u001b[1;32m    711\u001b[0m     \u001b[39mself\u001b[39m\u001b[39m.\u001b[39m_prepare_proxy(conn)\n\u001b[1;32m    713\u001b[0m \u001b[39m# Make the request on the httplib connection object.\u001b[39;00m\n\u001b[0;32m--> 714\u001b[0m httplib_response \u001b[39m=\u001b[39m \u001b[39mself\u001b[39m\u001b[39m.\u001b[39m_make_request(\n\u001b[1;32m    715\u001b[0m     conn,\n\u001b[1;32m    716\u001b[0m     method,\n\u001b[1;32m    717\u001b[0m     url,\n\u001b[1;32m    718\u001b[0m     timeout\u001b[39m=\u001b[39mtimeout_obj,\n\u001b[1;32m    719\u001b[0m     body\u001b[39m=\u001b[39mbody,\n\u001b[1;32m    720\u001b[0m     headers\u001b[39m=\u001b[39mheaders,\n\u001b[1;32m    721\u001b[0m     chunked\u001b[39m=\u001b[39mchunked,\n\u001b[1;32m    722\u001b[0m )\n\u001b[1;32m    724\u001b[0m \u001b[39m# If we're going to release the connection in ``finally:``, then\u001b[39;00m\n\u001b[1;32m    725\u001b[0m \u001b[39m# the response doesn't need to know about the connection. Otherwise\u001b[39;00m\n\u001b[1;32m    726\u001b[0m \u001b[39m# it will also try to release it and we'll have a double-release\u001b[39;00m\n\u001b[1;32m    727\u001b[0m \u001b[39m# mess.\u001b[39;00m\n\u001b[1;32m    728\u001b[0m response_conn \u001b[39m=\u001b[39m conn \u001b[39mif\u001b[39;00m \u001b[39mnot\u001b[39;00m release_conn \u001b[39melse\u001b[39;00m \u001b[39mNone\u001b[39;00m\n",
      "File \u001b[0;32m~/opt/miniconda3/envs/homework/lib/python3.11/site-packages/urllib3/connectionpool.py:466\u001b[0m, in \u001b[0;36mHTTPConnectionPool._make_request\u001b[0;34m(self, conn, method, url, timeout, chunked, **httplib_request_kw)\u001b[0m\n\u001b[1;32m    461\u001b[0m             httplib_response \u001b[39m=\u001b[39m conn\u001b[39m.\u001b[39mgetresponse()\n\u001b[1;32m    462\u001b[0m         \u001b[39mexcept\u001b[39;00m \u001b[39mBaseException\u001b[39;00m \u001b[39mas\u001b[39;00m e:\n\u001b[1;32m    463\u001b[0m             \u001b[39m# Remove the TypeError from the exception chain in\u001b[39;00m\n\u001b[1;32m    464\u001b[0m             \u001b[39m# Python 3 (including for exceptions like SystemExit).\u001b[39;00m\n\u001b[1;32m    465\u001b[0m             \u001b[39m# Otherwise it looks like a bug in the code.\u001b[39;00m\n\u001b[0;32m--> 466\u001b[0m             six\u001b[39m.\u001b[39mraise_from(e, \u001b[39mNone\u001b[39;00m)\n\u001b[1;32m    467\u001b[0m \u001b[39mexcept\u001b[39;00m (SocketTimeout, BaseSSLError, SocketError) \u001b[39mas\u001b[39;00m e:\n\u001b[1;32m    468\u001b[0m     \u001b[39mself\u001b[39m\u001b[39m.\u001b[39m_raise_timeout(err\u001b[39m=\u001b[39me, url\u001b[39m=\u001b[39murl, timeout_value\u001b[39m=\u001b[39mread_timeout)\n",
      "File \u001b[0;32m<string>:3\u001b[0m, in \u001b[0;36mraise_from\u001b[0;34m(value, from_value)\u001b[0m\n",
      "File \u001b[0;32m~/opt/miniconda3/envs/homework/lib/python3.11/site-packages/urllib3/connectionpool.py:461\u001b[0m, in \u001b[0;36mHTTPConnectionPool._make_request\u001b[0;34m(self, conn, method, url, timeout, chunked, **httplib_request_kw)\u001b[0m\n\u001b[1;32m    458\u001b[0m \u001b[39mexcept\u001b[39;00m \u001b[39mTypeError\u001b[39;00m:\n\u001b[1;32m    459\u001b[0m     \u001b[39m# Python 3\u001b[39;00m\n\u001b[1;32m    460\u001b[0m     \u001b[39mtry\u001b[39;00m:\n\u001b[0;32m--> 461\u001b[0m         httplib_response \u001b[39m=\u001b[39m conn\u001b[39m.\u001b[39mgetresponse()\n\u001b[1;32m    462\u001b[0m     \u001b[39mexcept\u001b[39;00m \u001b[39mBaseException\u001b[39;00m \u001b[39mas\u001b[39;00m e:\n\u001b[1;32m    463\u001b[0m         \u001b[39m# Remove the TypeError from the exception chain in\u001b[39;00m\n\u001b[1;32m    464\u001b[0m         \u001b[39m# Python 3 (including for exceptions like SystemExit).\u001b[39;00m\n\u001b[1;32m    465\u001b[0m         \u001b[39m# Otherwise it looks like a bug in the code.\u001b[39;00m\n\u001b[1;32m    466\u001b[0m         six\u001b[39m.\u001b[39mraise_from(e, \u001b[39mNone\u001b[39;00m)\n",
      "File \u001b[0;32m~/opt/miniconda3/envs/homework/lib/python3.11/http/client.py:1378\u001b[0m, in \u001b[0;36mHTTPConnection.getresponse\u001b[0;34m(self)\u001b[0m\n\u001b[1;32m   1376\u001b[0m \u001b[39mtry\u001b[39;00m:\n\u001b[1;32m   1377\u001b[0m     \u001b[39mtry\u001b[39;00m:\n\u001b[0;32m-> 1378\u001b[0m         response\u001b[39m.\u001b[39mbegin()\n\u001b[1;32m   1379\u001b[0m     \u001b[39mexcept\u001b[39;00m \u001b[39mConnectionError\u001b[39;00m:\n\u001b[1;32m   1380\u001b[0m         \u001b[39mself\u001b[39m\u001b[39m.\u001b[39mclose()\n",
      "File \u001b[0;32m~/opt/miniconda3/envs/homework/lib/python3.11/http/client.py:318\u001b[0m, in \u001b[0;36mHTTPResponse.begin\u001b[0;34m(self)\u001b[0m\n\u001b[1;32m    316\u001b[0m \u001b[39m# read until we get a non-100 response\u001b[39;00m\n\u001b[1;32m    317\u001b[0m \u001b[39mwhile\u001b[39;00m \u001b[39mTrue\u001b[39;00m:\n\u001b[0;32m--> 318\u001b[0m     version, status, reason \u001b[39m=\u001b[39m \u001b[39mself\u001b[39m\u001b[39m.\u001b[39m_read_status()\n\u001b[1;32m    319\u001b[0m     \u001b[39mif\u001b[39;00m status \u001b[39m!=\u001b[39m CONTINUE:\n\u001b[1;32m    320\u001b[0m         \u001b[39mbreak\u001b[39;00m\n",
      "File \u001b[0;32m~/opt/miniconda3/envs/homework/lib/python3.11/http/client.py:279\u001b[0m, in \u001b[0;36mHTTPResponse._read_status\u001b[0;34m(self)\u001b[0m\n\u001b[1;32m    278\u001b[0m \u001b[39mdef\u001b[39;00m \u001b[39m_read_status\u001b[39m(\u001b[39mself\u001b[39m):\n\u001b[0;32m--> 279\u001b[0m     line \u001b[39m=\u001b[39m \u001b[39mstr\u001b[39m(\u001b[39mself\u001b[39m\u001b[39m.\u001b[39mfp\u001b[39m.\u001b[39mreadline(_MAXLINE \u001b[39m+\u001b[39m \u001b[39m1\u001b[39m), \u001b[39m\"\u001b[39m\u001b[39miso-8859-1\u001b[39m\u001b[39m\"\u001b[39m)\n\u001b[1;32m    280\u001b[0m     \u001b[39mif\u001b[39;00m \u001b[39mlen\u001b[39m(line) \u001b[39m>\u001b[39m _MAXLINE:\n\u001b[1;32m    281\u001b[0m         \u001b[39mraise\u001b[39;00m LineTooLong(\u001b[39m\"\u001b[39m\u001b[39mstatus line\u001b[39m\u001b[39m\"\u001b[39m)\n",
      "File \u001b[0;32m~/opt/miniconda3/envs/homework/lib/python3.11/socket.py:706\u001b[0m, in \u001b[0;36mSocketIO.readinto\u001b[0;34m(self, b)\u001b[0m\n\u001b[1;32m    704\u001b[0m \u001b[39mwhile\u001b[39;00m \u001b[39mTrue\u001b[39;00m:\n\u001b[1;32m    705\u001b[0m     \u001b[39mtry\u001b[39;00m:\n\u001b[0;32m--> 706\u001b[0m         \u001b[39mreturn\u001b[39;00m \u001b[39mself\u001b[39m\u001b[39m.\u001b[39m_sock\u001b[39m.\u001b[39mrecv_into(b)\n\u001b[1;32m    707\u001b[0m     \u001b[39mexcept\u001b[39;00m timeout:\n\u001b[1;32m    708\u001b[0m         \u001b[39mself\u001b[39m\u001b[39m.\u001b[39m_timeout_occurred \u001b[39m=\u001b[39m \u001b[39mTrue\u001b[39;00m\n",
      "File \u001b[0;32m~/opt/miniconda3/envs/homework/lib/python3.11/ssl.py:1311\u001b[0m, in \u001b[0;36mSSLSocket.recv_into\u001b[0;34m(self, buffer, nbytes, flags)\u001b[0m\n\u001b[1;32m   1307\u001b[0m     \u001b[39mif\u001b[39;00m flags \u001b[39m!=\u001b[39m \u001b[39m0\u001b[39m:\n\u001b[1;32m   1308\u001b[0m         \u001b[39mraise\u001b[39;00m \u001b[39mValueError\u001b[39;00m(\n\u001b[1;32m   1309\u001b[0m           \u001b[39m\"\u001b[39m\u001b[39mnon-zero flags not allowed in calls to recv_into() on \u001b[39m\u001b[39m%s\u001b[39;00m\u001b[39m\"\u001b[39m \u001b[39m%\u001b[39m\n\u001b[1;32m   1310\u001b[0m           \u001b[39mself\u001b[39m\u001b[39m.\u001b[39m\u001b[39m__class__\u001b[39m)\n\u001b[0;32m-> 1311\u001b[0m     \u001b[39mreturn\u001b[39;00m \u001b[39mself\u001b[39m\u001b[39m.\u001b[39mread(nbytes, buffer)\n\u001b[1;32m   1312\u001b[0m \u001b[39melse\u001b[39;00m:\n\u001b[1;32m   1313\u001b[0m     \u001b[39mreturn\u001b[39;00m \u001b[39msuper\u001b[39m()\u001b[39m.\u001b[39mrecv_into(buffer, nbytes, flags)\n",
      "File \u001b[0;32m~/opt/miniconda3/envs/homework/lib/python3.11/ssl.py:1167\u001b[0m, in \u001b[0;36mSSLSocket.read\u001b[0;34m(self, len, buffer)\u001b[0m\n\u001b[1;32m   1165\u001b[0m \u001b[39mtry\u001b[39;00m:\n\u001b[1;32m   1166\u001b[0m     \u001b[39mif\u001b[39;00m buffer \u001b[39mis\u001b[39;00m \u001b[39mnot\u001b[39;00m \u001b[39mNone\u001b[39;00m:\n\u001b[0;32m-> 1167\u001b[0m         \u001b[39mreturn\u001b[39;00m \u001b[39mself\u001b[39m\u001b[39m.\u001b[39m_sslobj\u001b[39m.\u001b[39mread(\u001b[39mlen\u001b[39m, buffer)\n\u001b[1;32m   1168\u001b[0m     \u001b[39melse\u001b[39;00m:\n\u001b[1;32m   1169\u001b[0m         \u001b[39mreturn\u001b[39;00m \u001b[39mself\u001b[39m\u001b[39m.\u001b[39m_sslobj\u001b[39m.\u001b[39mread(\u001b[39mlen\u001b[39m)\n",
      "\u001b[0;31mKeyboardInterrupt\u001b[0m: "
     ]
    }
   ],
   "source": [
    "\n",
    "df = pd.read_csv(\"us_cities_by_state_SEPT.2023.csv\")\n",
    "\n",
    "rev_dict = {}\n",
    "articles = []\n",
    "revisions = []\n",
    "scores = []\n",
    "\n",
    "city_pages = df['page_title'].to_list()\n",
    "for i in range(0, len(city_pages), 10):\n",
    "    print('Getting batch', i//10)\n",
    "    batch = city_pages[i:i+10]\n",
    "    titles = \"|\".join(str(b) for b in batch)\n",
    "    new_dict = get_revision_id(titles)\n",
    "    rev_dict.update(new_dict)\n",
    "    score = request_ores_score_per_article(article_revid=list(new_dict.values()),\n",
    "                                       email_address=\"cjault@uw.edu\",\n",
    "                                       access_token=ACCESS_TOKEN)\n",
    "    articles += batch\n",
    "    revisions += new_dict.values()\n",
    "    for k in new_dict.keys():\n",
    "        scores.append(score[\"enwiki\"][\"scores\"][str(new_dict[k])][\"wp10\"][\"score\"]['prediction'])\n"
   ]
  },
  {
   "cell_type": "markdown",
   "metadata": {},
   "source": [
    "## Unwanted Articles\n",
    "The cell below outlines unwanted articles that are not cities. These were calculated from finding duplicate article names and revision id's. This means that the crawler that created the file of cities hit these points multiple times which indicates it is a region or at least not a city."
   ]
  },
  {
   "cell_type": "code",
   "execution_count": null,
   "metadata": {},
   "outputs": [],
   "source": [
    "# Articles we do not want to target\n",
    "blacklist_articles = ['County (United States)', 'Population', 'Square mile', 'Federal Information Processing Standards', 'American National Standards Institute', 'Geographic Names Information System', 'Grand Divisions of Tennessee', '2020 United States census', '2010 United States census', 'Accomack County, Virginia', 'Albemarle County, Virginia', 'Alleghany County, Virginia', 'Amelia County, Virginia', 'Amherst County, Virginia', 'Appomattox County, Virginia', 'Arlington County, Virginia', 'Augusta County, Virginia', 'Bath County, Virginia', 'Bedford County, Virginia', 'Bland County, Virginia', 'Botetourt County, Virginia', 'Brunswick County, Virginia', 'Buchanan County, Virginia', 'Buckingham County, Virginia', 'Campbell County, Virginia', 'Caroline County, Virginia', 'Carroll County, Virginia', 'Charles City County, Virginia', 'Charlotte County, Virginia', 'Chesterfield County, Virginia', 'Clarke County, Virginia', 'Craig County, Virginia', 'Culpeper County, Virginia', 'Cumberland County, Virginia', 'Dickenson County, Virginia', 'Dinwiddie County, Virginia', 'Essex County, Virginia', 'Fairfax County, Virginia', 'Fauquier County, Virginia', 'Floyd County, Virginia', 'Fluvanna County, Virginia', 'Franklin County, Virginia', 'Frederick County, Virginia', 'Giles County, Virginia', 'Gloucester County, Virginia', 'Goochland County, Virginia', 'Grayson County, Virginia', 'Greene County, Virginia', 'Greensville County, Virginia', 'Halifax County, Virginia', 'Hanover County, Virginia', 'Henrico County, Virginia', 'Henry County, Virginia', 'Highland County, Virginia', 'Isle of Wight County, Virginia', 'James City County, Virginia', 'King and Queen County, Virginia', 'King George County, Virginia', 'King William County, Virginia', 'Lancaster County, Virginia', 'Lee County, Virginia', 'Loudoun County, Virginia', 'Louisa County, Virginia', 'Lunenburg County, Virginia', 'Madison County, Virginia', 'Mathews County, Virginia', 'Mecklenburg County, Virginia', 'Middlesex County, Virginia', 'Montgomery County, Virginia', 'Nelson County, Virginia', 'New Kent County, Virginia', 'Northampton County, Virginia', 'Northumberland County, Virginia', 'Nottoway County, Virginia', 'Orange County, Virginia', 'Page County, Virginia', 'Patrick County, Virginia', 'Pittsylvania County, Virginia', 'Powhatan County, Virginia', 'Prince Edward County, Virginia', 'Prince George County, Virginia', 'Prince William County, Virginia', 'Pulaski County, Virginia', 'Rappahannock County, Virginia', 'Richmond County, Virginia', 'Roanoke County, Virginia', 'Rockbridge County, Virginia', 'Rockingham County, Virginia', 'Russell County, Virginia', 'Scott County, Virginia', 'Shenandoah County, Virginia', 'Smyth County, Virginia', 'Southampton County, Virginia', 'Spotsylvania County, Virginia', 'Stafford County, Virginia', 'Surry County, Virginia', 'Sussex County, Virginia', 'Tazewell County, Virginia', 'Warren County, Virginia', 'Washington County, Virginia', 'Westmoreland County, Virginia', 'Wise County, Virginia', 'Wythe County, Virginia', 'York County, Virginia', 'Alexandria, Virginia', 'Bristol, Virginia', 'Buena Vista, Virginia', 'Charlottesville, Virginia', 'Chesapeake, Virginia', 'Colonial Heights, Virginia', 'Covington, Virginia', 'Danville, Virginia', 'Emporia, Virginia', 'Fairfax, Virginia', 'Falls Church, Virginia', 'Franklin, Virginia', 'Fredericksburg, Virginia', 'Galax, Virginia', 'Hampton, Virginia', 'Harrisonburg, Virginia', 'Hopewell, Virginia', 'Lexington, Virginia', 'Lynchburg, Virginia', 'Manassas, Virginia', 'Manassas Park, Virginia', 'Martinsville, Virginia', 'Newport News, Virginia', 'Norfolk, Virginia', 'Norton, Virginia', 'Petersburg, Virginia', 'Poquoson, Virginia', 'Portsmouth, Virginia', 'Radford, Virginia', 'Richmond, Virginia', 'Roanoke, Virginia', 'Salem, Virginia', 'Staunton, Virginia', 'Suffolk, Virginia', 'Virginia Beach, Virginia', 'Waynesboro, Virginia', 'Williamsburg, Virginia', 'Winchester, Virginia']\n",
    "blacklist_rev = [1178988667, 1179591354, 1179747974, 1172478013, 1175882108, 1179447400, 1175359799, 1179393707, 1179894823, 1177127699, 1174935575, 1177381277, 1176261398, 1172759600, 1173914155, 1180408287, 1179806976, 1179190289, 1175701448, 1172622410, 1178411699, 1173345759, 1161252887, 1179396671, 1177668957, 1175705267, 1159576648, 1176143424, 1175706369, 1166068523, 1159576984, 1172873564, 1180125397, 1175706773, 1159577209, 1179891099, 1175711008, 1179705918, 1177286317, 1175731895, 1177061279, 1178238427, 1174839386, 1163056257, 1179710658, 1173720612, 1168636825, 1176840755, 1180298399, 1166092103, 1172882656, 1178174208, 1174411303, 1179512268, 1172934669, 1176008529, 1177803019, 1171044243, 1176205466, 1175410763, 1178691008, 1176589473, 1172752518, 1159606947, 1159607022, 1159686921, 1159687045, 1177439291, 1152594631, 1178415845, 1171659522, 1166671671, 1172345198, 1160205180, 1171107080, 1172540443, 1172200578, 1170250578, 1159751766, 1173346044, 1173169934, 1176303629, 1159752330, 1180119731, 1166940769, 1175386938, 1168629971, 1172930083, 1159752983, 1172621888, 1174079675, 1179713060, 1153510493, 1177202263, 1175370881, 1174236915, 1177426495, 1172617911, 1173161788, 1175561145, 1179981187, 1178752866, 1169693796, 1176624311, 1180367758, 1172656361, 1177346134, 1179344628, 1177498283, 1169222060, 1169330302, 1176688108, 1174387012, 1175067625, 1177312743, 1170363182, 1178256264, 1173219237, 1178925952, 1178248304, 1173345591, 1176128309, 1180195119, 1178149428, 1177308264, 1179945503, 1177933906, 1180350896, 1160458417, 1177840438, 1180438824, 1179580801, 1174929714, 1180350446, 1179983043, 1173991892, 1177187603, 1180409289, 1179974819, 1167253545, 1179596070, 1179433809]\n",
    "print(blacklist_articles)"
   ]
  },
  {
   "cell_type": "markdown",
   "metadata": {},
   "source": [
    "## Data Cleaning\n",
    "The following cell removes unwanted articles from the list and cleans the data before combining the other data files and saving the final results."
   ]
  },
  {
   "cell_type": "code",
   "execution_count": 213,
   "metadata": {},
   "outputs": [
    {
     "name": "stdout",
     "output_type": "stream",
     "text": [
      "18004\n",
      "18004\n",
      "18006\n",
      "['East Gillespie, Illinois', 'East Hazel Crest, Illinois', 'East Moline, Illinois', 'Easton, Illinois', 'East Peoria, Illinois']\n",
      "['Wamsutter, Wyoming', 'Wheatland, Wyoming', 'Worland, Wyoming', 'Wright, Wyoming', 'Yoder, Wyoming']\n",
      "[1169591845, 1176370621, 1166347917, 1166334449, 1171182284]\n",
      "['GA', 'GA', 'GA', 'GA', 'C']\n",
      "[16942, 17075]\n",
      "['County (United States)', 'Population', 'Square mile', 'Federal Information Processing Standards', 'American National Standards Institute', 'Geographic Names Information System', 'Grand Divisions of Tennessee', '2020 United States census', '2010 United States census', 'Accomack County, Virginia', 'Albemarle County, Virginia', 'Alleghany County, Virginia', 'Amelia County, Virginia', 'Amherst County, Virginia', 'Appomattox County, Virginia', 'Arlington County, Virginia', 'Augusta County, Virginia', 'Bath County, Virginia', 'Bedford County, Virginia', 'Bland County, Virginia', 'Botetourt County, Virginia', 'Brunswick County, Virginia', 'Buchanan County, Virginia', 'Buckingham County, Virginia', 'Campbell County, Virginia', 'Caroline County, Virginia', 'Carroll County, Virginia', 'Charles City County, Virginia', 'Charlotte County, Virginia', 'Chesterfield County, Virginia', 'Clarke County, Virginia', 'Craig County, Virginia', 'Culpeper County, Virginia', 'Cumberland County, Virginia', 'Dickenson County, Virginia', 'Dinwiddie County, Virginia', 'Essex County, Virginia', 'Fairfax County, Virginia', 'Fauquier County, Virginia', 'Floyd County, Virginia', 'Fluvanna County, Virginia', 'Franklin County, Virginia', 'Frederick County, Virginia', 'Giles County, Virginia', 'Gloucester County, Virginia', 'Goochland County, Virginia', 'Grayson County, Virginia', 'Greene County, Virginia', 'Greensville County, Virginia', 'Halifax County, Virginia', 'Hanover County, Virginia', 'Henrico County, Virginia', 'Henry County, Virginia', 'Highland County, Virginia', 'Isle of Wight County, Virginia', 'James City County, Virginia', 'King and Queen County, Virginia', 'King George County, Virginia', 'King William County, Virginia', 'Lancaster County, Virginia', 'Lee County, Virginia', 'Loudoun County, Virginia', 'Louisa County, Virginia', 'Lunenburg County, Virginia', 'Madison County, Virginia', 'Mathews County, Virginia', 'Mecklenburg County, Virginia', 'Middlesex County, Virginia', 'Montgomery County, Virginia', 'Nelson County, Virginia', 'New Kent County, Virginia', 'Northampton County, Virginia', 'Northumberland County, Virginia', 'Nottoway County, Virginia', 'Orange County, Virginia', 'Page County, Virginia', 'Patrick County, Virginia', 'Pittsylvania County, Virginia', 'Powhatan County, Virginia', 'Prince Edward County, Virginia', 'Prince George County, Virginia', 'Prince William County, Virginia', 'Pulaski County, Virginia', 'Rappahannock County, Virginia', 'Richmond County, Virginia', 'Roanoke County, Virginia', 'Rockbridge County, Virginia', 'Rockingham County, Virginia', 'Russell County, Virginia', 'Scott County, Virginia', 'Shenandoah County, Virginia', 'Smyth County, Virginia', 'Southampton County, Virginia', 'Spotsylvania County, Virginia', 'Stafford County, Virginia', 'Surry County, Virginia', 'Sussex County, Virginia', 'Tazewell County, Virginia', 'Warren County, Virginia', 'Washington County, Virginia', 'Westmoreland County, Virginia', 'Wise County, Virginia', 'Wythe County, Virginia', 'York County, Virginia', 'Alexandria, Virginia', 'Bristol, Virginia', 'Buena Vista, Virginia', 'Charlottesville, Virginia', 'Chesapeake, Virginia', 'Colonial Heights, Virginia', 'Covington, Virginia', 'Danville, Virginia', 'Emporia, Virginia', 'Fairfax, Virginia', 'Falls Church, Virginia', 'Franklin, Virginia', 'Fredericksburg, Virginia', 'Galax, Virginia', 'Hampton, Virginia', 'Harrisonburg, Virginia', 'Hopewell, Virginia', 'Lexington, Virginia', 'Lynchburg, Virginia', 'Manassas, Virginia', 'Manassas Park, Virginia', 'Martinsville, Virginia', 'Newport News, Virginia', 'Norfolk, Virginia', 'Norton, Virginia', 'Petersburg, Virginia', 'Poquoson, Virginia', 'Portsmouth, Virginia', 'Radford, Virginia', 'Richmond, Virginia', 'Roanoke, Virginia', 'Salem, Virginia', 'Staunton, Virginia', 'Suffolk, Virginia', 'Virginia Beach, Virginia', 'Waynesboro, Virginia', 'Williamsburg, Virginia', 'Winchester, Virginia']\n",
      "[1178988667, 1179591354, 1179747974, 1172478013, 1175882108, 1179447400, 1175359799, 1179393707, 1179894823, 1177127699, 1174935575, 1177381277, 1176261398, 1172759600, 1173914155, 1180408287, 1179806976, 1179190289, 1175701448, 1172622410, 1178411699, 1173345759, 1161252887, 1179396671, 1177668957, 1175705267, 1159576648, 1176143424, 1175706369, 1166068523, 1159576984, 1172873564, 1180125397, 1175706773, 1159577209, 1179891099, 1175711008, 1179705918, 1177286317, 1175731895, 1177061279, 1178238427, 1174839386, 1163056257, 1179710658, 1173720612, 1168636825, 1176840755, 1180298399, 1166092103, 1172882656, 1178174208, 1174411303, 1179512268, 1172934669, 1176008529, 1177803019, 1171044243, 1176205466, 1175410763, 1178691008, 1176589473, 1172752518, 1159606947, 1159607022, 1159686921, 1159687045, 1177439291, 1152594631, 1178415845, 1171659522, 1166671671, 1172345198, 1160205180, 1171107080, 1172540443, 1172200578, 1170250578, 1159751766, 1173346044, 1173169934, 1176303629, 1159752330, 1180119731, 1166940769, 1175386938, 1168629971, 1172930083, 1159752983, 1172621888, 1174079675, 1179713060, 1153510493, 1177202263, 1175370881, 1174236915, 1177426495, 1172617911, 1173161788, 1175561145, 1179981187, 1178752866, 1169693796, 1176624311, 1180367758, 1172656361, 1177346134, 1179344628, 1177498283, 1169222060, 1169330302, 1176688108, 1174387012, 1175067625, 1177312743, 1170363182, 1178256264, 1173219237, 1178925952, 1178248304, 1173345591, 1176128309, 1180195119, 1178149428, 1177308264, 1179945503, 1177933906, 1180350896, 1160458417, 1177840438, 1180438824, 1179580801, 1174929714, 1180350446, 1179983043, 1173991892, 1177187603, 1180409289, 1179974819, 1167253545, 1179596070, 1179433809]\n",
      "['East Gillespie, Illinois', 'East Hazel Crest, Illinois', 'East Moline, Illinois', 'Easton, Illinois', 'East Peoria, Illinois']\n",
      "[1138417432, 1169516112, 1172385321, 1178456693, 1178719826]\n",
      "['GA', 'GA', 'GA', 'GA', 'C']\n"
     ]
    }
   ],
   "source": [
    "\n",
    "final_revisions = []\n",
    "final_articles = []\n",
    "final_scores = []\n",
    "for i in range(len(revisions)):\n",
    "    if revisions[i] not in blacklist_rev:\n",
    "        final_revisions.append(revisions[i])\n",
    "        final_scores.append(scores[i])\n",
    "for i in range(len(articles)):\n",
    "    if articles[i] not in blacklist_articles:\n",
    "        final_articles.append(articles[i])\n",
    "\n",
    "df3 = pd.DataFrame({'article_title': final_articles, 'revision_id': final_revisions, 'article_quality': final_scores})\n",
    "\n",
    "df_regions = pd.read_csv('US States by Region - US Census Bureau - Sheet1.csv')\n",
    "df_regions = df_regions.rename(columns={'STATE': 'state', 'REGION':'regional_division'})\n",
    "df_state = pd.read_csv('us_cities_by_state_SEPT.2023.csv')\n",
    "df_state = df_state.rename(columns={'page_title': 'article_title'})\n",
    "df_scores = df3.copy()\n",
    "df_state['state'] = df_state['state'].replace('Georgia_(U.S._state)', 'Georgia')\n",
    "df_state['state'] = df_state['state'].str.replace('_', ' ')\n",
    "\n",
    "\n",
    "df_merged = pd.merge(df_scores, df_state[['state', 'article_title']], on='article_title', how='left')\n",
    "df_merged = pd.merge(df_merged, df_regions[['state', 'regional_division']], on='state', how='left')\n",
    "\n",
    "df_pop = pd.read_csv('population.csv')\n",
    "\n",
    "# Remove commas and convert the column to integers\n",
    "df_pop['Population 2022'] = df_pop['Population 2022'].str.replace(',', '').astype(int)\n",
    "df_pop = df_pop.rename(columns={'State': 'state', 'Population 2022':'population'})\n",
    "\n",
    "df_final = pd.merge(df_merged, df_pop[['state', 'population']], on='state', how='left')\n",
    "df_final.to_csv('wp_scored_city_articles_by_state.csv',index=False)\n",
    "df_final.head()\n"
   ]
  }
 ],
 "metadata": {
  "kernelspec": {
   "display_name": "homework",
   "language": "python",
   "name": "python3"
  },
  "language_info": {
   "codemirror_mode": {
    "name": "ipython",
    "version": 3
   },
   "file_extension": ".py",
   "mimetype": "text/x-python",
   "name": "python",
   "nbconvert_exporter": "python",
   "pygments_lexer": "ipython3",
   "version": "3.11.5"
  }
 },
 "nbformat": 4,
 "nbformat_minor": 2
}
